{
 "cells": [
  {
   "cell_type": "markdown",
   "id": "b18ada44",
   "metadata": {},
   "source": [
    "# Step 1: Import Libraries"
   ]
  },
  {
   "cell_type": "code",
   "execution_count": 3,
   "id": "27ee1a2b",
   "metadata": {},
   "outputs": [
    {
     "name": "stdout",
     "output_type": "stream",
     "text": [
      "Collecting xgboost\n",
      "  Downloading xgboost-2.1.4-py3-none-win_amd64.whl (124.9 MB)\n",
      "Requirement already satisfied: numpy in c:\\anaconda\\lib\\site-packages (from xgboost) (1.26.4)\n",
      "Requirement already satisfied: scipy in c:\\anaconda\\lib\\site-packages (from xgboost) (1.13.1)\n",
      "Installing collected packages: xgboost\n",
      "Successfully installed xgboost-2.1.4\n",
      "Note: you may need to restart the kernel to use updated packages.\n"
     ]
    }
   ],
   "source": [
    "pip install xgboost"
   ]
  },
  {
   "cell_type": "code",
   "execution_count": 4,
   "id": "291ae119",
   "metadata": {},
   "outputs": [],
   "source": [
    "import pandas as pd\n",
    "import numpy as np\n",
    "import seaborn as sns\n",
    "import matplotlib.pyplot as plt\n",
    "from sklearn.model_selection import train_test_split\n",
    "from xgboost import XGBClassifier  # Boosting algorithm\n",
    "from sklearn.metrics import accuracy_score, classification_report\n",
    "from sklearn.preprocessing import LabelEncoder\n",
    "import pickle  # For saving the model"
   ]
  },
  {
   "cell_type": "markdown",
   "id": "0bffae25",
   "metadata": {},
   "source": [
    "# Step 2: Load and Explore the Dataset"
   ]
  },
  {
   "cell_type": "code",
   "execution_count": 5,
   "id": "6bd17258",
   "metadata": {},
   "outputs": [
    {
     "name": "stdout",
     "output_type": "stream",
     "text": [
      "   total_bill   tip     sex smoker  day    time  size  high_tipper\n",
      "0       16.99  1.01  Female     No  Sun  Dinner     2            0\n",
      "1       10.34  1.66    Male     No  Sun  Dinner     3            0\n",
      "2       21.01  3.50    Male     No  Sun  Dinner     3            0\n",
      "3       23.68  3.31    Male     No  Sun  Dinner     2            0\n",
      "4       24.59  3.61  Female     No  Sun  Dinner     4            0\n",
      "total_bill     0\n",
      "tip            0\n",
      "sex            0\n",
      "smoker         0\n",
      "day            0\n",
      "time           0\n",
      "size           0\n",
      "high_tipper    0\n",
      "dtype: int64\n"
     ]
    }
   ],
   "source": [
    "# Load dataset\n",
    "df = sns.load_dataset(\"tips\")\n",
    "\n",
    "# Create target variable: High tipper (tip ≥ 20% of total_bill)\n",
    "df[\"high_tipper\"] = (df[\"tip\"] / df[\"total_bill\"] >= 0.2).astype(int)\n",
    "\n",
    "# Check first 5 rows\n",
    "print(df.head())\n",
    "\n",
    "# Check for missing values\n",
    "print(df.isnull().sum())"
   ]
  },
  {
   "cell_type": "code",
   "execution_count": 6,
   "id": "0d90ef2b",
   "metadata": {},
   "outputs": [
    {
     "name": "stdout",
     "output_type": "stream",
     "text": [
      "<class 'pandas.core.frame.DataFrame'>\n",
      "RangeIndex: 244 entries, 0 to 243\n",
      "Data columns (total 8 columns):\n",
      " #   Column       Non-Null Count  Dtype   \n",
      "---  ------       --------------  -----   \n",
      " 0   total_bill   244 non-null    float64 \n",
      " 1   tip          244 non-null    float64 \n",
      " 2   sex          244 non-null    category\n",
      " 3   smoker       244 non-null    category\n",
      " 4   day          244 non-null    category\n",
      " 5   time         244 non-null    category\n",
      " 6   size         244 non-null    int64   \n",
      " 7   high_tipper  244 non-null    int32   \n",
      "dtypes: category(4), float64(2), int32(1), int64(1)\n",
      "memory usage: 8.3 KB\n"
     ]
    }
   ],
   "source": [
    "df.info()"
   ]
  },
  {
   "cell_type": "code",
   "execution_count": 7,
   "id": "b50c692d",
   "metadata": {},
   "outputs": [
    {
     "data": {
      "text/html": [
       "<div>\n",
       "<style scoped>\n",
       "    .dataframe tbody tr th:only-of-type {\n",
       "        vertical-align: middle;\n",
       "    }\n",
       "\n",
       "    .dataframe tbody tr th {\n",
       "        vertical-align: top;\n",
       "    }\n",
       "\n",
       "    .dataframe thead th {\n",
       "        text-align: right;\n",
       "    }\n",
       "</style>\n",
       "<table border=\"1\" class=\"dataframe\">\n",
       "  <thead>\n",
       "    <tr style=\"text-align: right;\">\n",
       "      <th></th>\n",
       "      <th>total_bill</th>\n",
       "      <th>tip</th>\n",
       "      <th>size</th>\n",
       "      <th>high_tipper</th>\n",
       "    </tr>\n",
       "  </thead>\n",
       "  <tbody>\n",
       "    <tr>\n",
       "      <th>count</th>\n",
       "      <td>244.000000</td>\n",
       "      <td>244.000000</td>\n",
       "      <td>244.000000</td>\n",
       "      <td>244.000000</td>\n",
       "    </tr>\n",
       "    <tr>\n",
       "      <th>mean</th>\n",
       "      <td>19.785943</td>\n",
       "      <td>2.998279</td>\n",
       "      <td>2.569672</td>\n",
       "      <td>0.159836</td>\n",
       "    </tr>\n",
       "    <tr>\n",
       "      <th>std</th>\n",
       "      <td>8.902412</td>\n",
       "      <td>1.383638</td>\n",
       "      <td>0.951100</td>\n",
       "      <td>0.367207</td>\n",
       "    </tr>\n",
       "    <tr>\n",
       "      <th>min</th>\n",
       "      <td>3.070000</td>\n",
       "      <td>1.000000</td>\n",
       "      <td>1.000000</td>\n",
       "      <td>0.000000</td>\n",
       "    </tr>\n",
       "    <tr>\n",
       "      <th>25%</th>\n",
       "      <td>13.347500</td>\n",
       "      <td>2.000000</td>\n",
       "      <td>2.000000</td>\n",
       "      <td>0.000000</td>\n",
       "    </tr>\n",
       "    <tr>\n",
       "      <th>50%</th>\n",
       "      <td>17.795000</td>\n",
       "      <td>2.900000</td>\n",
       "      <td>2.000000</td>\n",
       "      <td>0.000000</td>\n",
       "    </tr>\n",
       "    <tr>\n",
       "      <th>75%</th>\n",
       "      <td>24.127500</td>\n",
       "      <td>3.562500</td>\n",
       "      <td>3.000000</td>\n",
       "      <td>0.000000</td>\n",
       "    </tr>\n",
       "    <tr>\n",
       "      <th>max</th>\n",
       "      <td>50.810000</td>\n",
       "      <td>10.000000</td>\n",
       "      <td>6.000000</td>\n",
       "      <td>1.000000</td>\n",
       "    </tr>\n",
       "  </tbody>\n",
       "</table>\n",
       "</div>"
      ],
      "text/plain": [
       "       total_bill         tip        size  high_tipper\n",
       "count  244.000000  244.000000  244.000000   244.000000\n",
       "mean    19.785943    2.998279    2.569672     0.159836\n",
       "std      8.902412    1.383638    0.951100     0.367207\n",
       "min      3.070000    1.000000    1.000000     0.000000\n",
       "25%     13.347500    2.000000    2.000000     0.000000\n",
       "50%     17.795000    2.900000    2.000000     0.000000\n",
       "75%     24.127500    3.562500    3.000000     0.000000\n",
       "max     50.810000   10.000000    6.000000     1.000000"
      ]
     },
     "execution_count": 7,
     "metadata": {},
     "output_type": "execute_result"
    }
   ],
   "source": [
    "df.describe()"
   ]
  },
  {
   "cell_type": "markdown",
   "id": "071e9c1c",
   "metadata": {},
   "source": [
    "# Step 3: Data Preprocessing"
   ]
  },
  {
   "cell_type": "code",
   "execution_count": 8,
   "id": "56200cb6",
   "metadata": {},
   "outputs": [],
   "source": [
    "# Encode 'sex', 'smoker', 'day', and 'time' using LabelEncoder\n",
    "le_sex = LabelEncoder()\n",
    "df[\"sex\"] = le_sex.fit_transform(df[\"sex\"])\n",
    "\n",
    "le_smoker = LabelEncoder()\n",
    "df[\"smoker\"] = le_smoker.fit_transform(df[\"smoker\"])\n",
    "\n",
    "le_day = LabelEncoder()\n",
    "df[\"day\"] = le_day.fit_transform(df[\"day\"])\n",
    "\n",
    "le_time = LabelEncoder()\n",
    "df[\"time\"] = le_time.fit_transform(df[\"time\"])"
   ]
  },
  {
   "cell_type": "code",
   "execution_count": 9,
   "id": "d07309e0",
   "metadata": {},
   "outputs": [],
   "source": [
    "#defining x and y\n",
    "\n",
    "X = df.drop(\"high_tipper\", axis=1)\n",
    "y = df[\"high_tipper\"]"
   ]
  },
  {
   "cell_type": "markdown",
   "id": "a94e134b",
   "metadata": {},
   "source": [
    "# Step 4: Split Data into Train and Test Sets"
   ]
  },
  {
   "cell_type": "code",
   "execution_count": 10,
   "id": "754125d2",
   "metadata": {},
   "outputs": [],
   "source": [
    "X_train, X_test, y_train, y_test = train_test_split(\n",
    "    X, y, test_size=0.3, random_state=42\n",
    ")"
   ]
  },
  {
   "cell_type": "markdown",
   "id": "f5067332",
   "metadata": {},
   "source": [
    "# Step 5: Train a Single Decision Tree (Baseline Model)"
   ]
  },
  {
   "cell_type": "code",
   "execution_count": 13,
   "id": "5355a198",
   "metadata": {},
   "outputs": [],
   "source": [
    "from sklearn.tree import DecisionTreeClassifier"
   ]
  },
  {
   "cell_type": "code",
   "execution_count": 14,
   "id": "8907cfb7",
   "metadata": {},
   "outputs": [
    {
     "name": "stdout",
     "output_type": "stream",
     "text": [
      "Single Tree Accuracy: 0.8513513513513513\n",
      "              precision    recall  f1-score   support\n",
      "\n",
      "           0       0.92      0.90      0.91        62\n",
      "           1       0.54      0.58      0.56        12\n",
      "\n",
      "    accuracy                           0.85        74\n",
      "   macro avg       0.73      0.74      0.74        74\n",
      "weighted avg       0.86      0.85      0.85        74\n",
      "\n"
     ]
    }
   ],
   "source": [
    "# Train a single Decision Tree\n",
    "tree = DecisionTreeClassifier(random_state=42)\n",
    "tree.fit(X_train, y_train)\n",
    "\n",
    "# Evaluate\n",
    "y_pred_tree = tree.predict(X_test)\n",
    "print(\"Single Tree Accuracy:\", accuracy_score(y_test, y_pred_tree))\n",
    "print(classification_report(y_test, y_pred_tree))"
   ]
  },
  {
   "cell_type": "markdown",
   "id": "ef5ac317",
   "metadata": {},
   "source": [
    "# Step 6: Implement Boosting with XGBoost\n"
   ]
  },
  {
   "cell_type": "code",
   "execution_count": 15,
   "id": "b767434e",
   "metadata": {},
   "outputs": [
    {
     "name": "stdout",
     "output_type": "stream",
     "text": [
      "XGBoost Accuracy: 0.9324324324324325\n",
      "              precision    recall  f1-score   support\n",
      "\n",
      "           0       0.93      1.00      0.96        62\n",
      "           1       1.00      0.58      0.74        12\n",
      "\n",
      "    accuracy                           0.93        74\n",
      "   macro avg       0.96      0.79      0.85        74\n",
      "weighted avg       0.94      0.93      0.92        74\n",
      "\n"
     ]
    },
    {
     "name": "stderr",
     "output_type": "stream",
     "text": [
      "C:\\Anaconda\\lib\\site-packages\\xgboost\\core.py:158: UserWarning: [07:58:08] WARNING: C:\\buildkite-agent\\builds\\buildkite-windows-cpu-autoscaling-group-i-08cbc0333d8d4aae1-1\\xgboost\\xgboost-ci-windows\\src\\learner.cc:740: \n",
      "Parameters: { \"use_label_encoder\" } are not used.\n",
      "\n",
      "  warnings.warn(smsg, UserWarning)\n"
     ]
    }
   ],
   "source": [
    "# Initialize XGBoost Classifier\n",
    "xgb = XGBClassifier(\n",
    "    n_estimators=100,          # Number of boosting rounds\n",
    "    max_depth=3,               # Maximum depth of each tree\n",
    "    learning_rate=0.1,         # Step size to prevent overfitting\n",
    "    subsample=0.8,             # Fraction of rows used per tree\n",
    "    colsample_bytree=1.0,      # Fraction of columns used per tree\n",
    "    objective='binary:logistic',  # Binary classification task\n",
    "    eval_metric='logloss',     # Evaluation metric\n",
    "    use_label_encoder=False,   # Avoid warning for newer versions\n",
    "    random_state=42\n",
    ")\n",
    "\n",
    "# Train the model\n",
    "xgb.fit(X_train, y_train)\n",
    "\n",
    "# Evaluate\n",
    "y_pred_xgb = xgb.predict(X_test)\n",
    "print(\"XGBoost Accuracy:\", accuracy_score(y_test, y_pred_xgb))\n",
    "print(classification_report(y_test, y_pred_xgb))"
   ]
  },
  {
   "cell_type": "markdown",
   "id": "62dd2a61",
   "metadata": {},
   "source": [
    "# Step 8: Save the Model Using pickle"
   ]
  },
  {
   "cell_type": "code",
   "execution_count": null,
   "id": "fd2a5c96",
   "metadata": {},
   "outputs": [],
   "source": [
    "# Save the XGBoost model\n",
    "with open(\"xgboost_tips_model.pkl\", \"wb\") as file:\n",
    "    pickle.dump(xgb, file)\n",
    "\n",
    "# Save encoders for future inference\n",
    "with open(\"sex_encoder.pkl\", \"wb\") as file:\n",
    "    pickle.dump(le_sex, file)\n",
    "\n",
    "with open(\"smoker_encoder.pkl\", \"wb\") as file:\n",
    "    pickle.dump(le_smoker, file)\n",
    "\n",
    "with open(\"day_encoder.pkl\", \"wb\") as file:\n",
    "    pickle.dump(le_day, file)\n",
    "\n",
    "with open(\"time_encoder.pkl\", \"wb\") as file:\n",
    "    pickle.dump(le_time, file)"
   ]
  },
  {
   "cell_type": "code",
   "execution_count": null,
   "id": "aba52beb",
   "metadata": {},
   "outputs": [],
   "source": [
    ">> feature scaling, treating outliers, handling missing values is not required."
   ]
  },
  {
   "cell_type": "code",
   "execution_count": null,
   "id": "4d848663",
   "metadata": {},
   "outputs": [],
   "source": []
  },
  {
   "cell_type": "code",
   "execution_count": null,
   "id": "c9104661",
   "metadata": {},
   "outputs": [],
   "source": [
    "AdaBoost is part of scikit-learn:\n",
    "    No separate installation required.\n",
    "    \n",
    "    from sklearn.ensemble import AdaBoostClassifier\n",
    "    n_estimators: Number of weak learners (trees) .\n",
    "    estimator: Base model (default is a decision stump) "
   ]
  },
  {
   "cell_type": "code",
   "execution_count": null,
   "id": "dbbbfab1",
   "metadata": {},
   "outputs": [],
   "source": [
    "CatBoost Implementation:\n",
    "    pip install catboost\n",
    "    \n",
    "    from catboost import CatBoostClassifier\n",
    "    \n",
    "    cat = CatBoostClassifier(iterations=100, learning_rate=0.1, depth=3, verbose=0) \n",
    "    \n",
    "parameters:\n",
    "    iterations: Number of boosting iterations .\n",
    "learning_rate: Controls step size for updates .\n",
    "depth: Maximum depth of trees"
   ]
  },
  {
   "cell_type": "code",
   "execution_count": null,
   "id": "c9bf868f",
   "metadata": {},
   "outputs": [],
   "source": []
  }
 ],
 "metadata": {
  "kernelspec": {
   "display_name": "Python 3 (ipykernel)",
   "language": "python",
   "name": "python3"
  },
  "language_info": {
   "codemirror_mode": {
    "name": "ipython",
    "version": 3
   },
   "file_extension": ".py",
   "mimetype": "text/x-python",
   "name": "python",
   "nbconvert_exporter": "python",
   "pygments_lexer": "ipython3",
   "version": "3.9.12"
  }
 },
 "nbformat": 4,
 "nbformat_minor": 5
}
